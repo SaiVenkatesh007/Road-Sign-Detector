{
 "cells": [
  {
   "cell_type": "code",
   "execution_count": 1,
   "metadata": {},
   "outputs": [],
   "source": [
    "# %cd yolov5\n",
    "# %pip install -r requirements.txt"
   ]
  },
  {
   "cell_type": "code",
   "execution_count": 2,
   "metadata": {},
   "outputs": [
    {
     "name": "stderr",
     "output_type": "stream",
     "text": [
      "c:\\Users\\Sai venkatesh\\AppData\\Local\\Programs\\Python\\Python310\\lib\\site-packages\\tqdm\\auto.py:22: TqdmWarning: IProgress not found. Please update jupyter and ipywidgets. See https://ipywidgets.readthedocs.io/en/stable/user_install.html\n",
      "  from .autonotebook import tqdm as notebook_tqdm\n"
     ]
    }
   ],
   "source": [
    "import torch\n",
    "from matplotlib import pyplot as plt\n",
    "import numpy as np\n",
    "import cv2\n",
    "import itertools\n",
    "import os \n",
    "import xml.etree.ElementTree as ET"
   ]
  },
  {
   "cell_type": "code",
   "execution_count": 3,
   "metadata": {},
   "outputs": [],
   "source": [
    "# %pwd\n",
    "# %cd "
   ]
  },
  {
   "cell_type": "code",
   "execution_count": 4,
   "metadata": {},
   "outputs": [],
   "source": [
    "def convert_box(size, box):\n",
    "    dw, dh = 1. / size[0], 1. / size[1]\n",
    "    x, y, w, h = (box[0] + box[1]) / 2.0 - 1, (box[2] + box[3]) / 2.0 - 1, box[1] - box[0], box[3] - box[2]\n",
    "    return x * dw, y * dh, w * dw, h * dh\n",
    "\n",
    "def convert_voc_to_yolo():\n",
    "    for anno in os.listdir('./data/labels'):\n",
    "        if anno.split('.')[1] == 'xml':\n",
    "            file_name = anno.split('.')[0]\n",
    "            out_file = open(f'./data/labels/{file_name}.txt', 'w')\n",
    "\n",
    "            tree = ET.parse(os.path.join('data','labels', anno))\n",
    "            root = tree.getroot()\n",
    "            size = root.find('size')        \n",
    "            w = int(size.find('width').text)\n",
    "            h = int(size.find('height').text)\n",
    "\n",
    "            names = ['trafficlight', 'speedlimit', 'crosswalk', 'stop']\n",
    "\n",
    "            for obj in root.iter('object'):\n",
    "                cls = obj.find('name').text\n",
    "                if cls in names and int(obj.find('difficult').text) != 1:\n",
    "                    xmlbox = obj.find('bndbox')\n",
    "                    bb = convert_box((w, h), [float(xmlbox.find(x).text) for x in ('xmin', 'xmax', 'ymin', 'ymax')])\n",
    "                    cls_id = names.index(cls)  # class id\n",
    "                    out_file.write(\" \".join([str(a) for a in (cls_id, *bb)]) + '\\n')"
   ]
  },
  {
   "cell_type": "code",
   "execution_count": 5,
   "metadata": {},
   "outputs": [],
   "source": [
    "convert_voc_to_yolo()"
   ]
  },
  {
   "cell_type": "code",
   "execution_count": null,
   "metadata": {},
   "outputs": [],
   "source": []
  }
 ],
 "metadata": {
  "kernelspec": {
   "display_name": "Python 3.10.2 64-bit",
   "language": "python",
   "name": "python3"
  },
  "language_info": {
   "codemirror_mode": {
    "name": "ipython",
    "version": 3
   },
   "file_extension": ".py",
   "mimetype": "text/x-python",
   "name": "python",
   "nbconvert_exporter": "python",
   "pygments_lexer": "ipython3",
   "version": "3.10.2"
  },
  "orig_nbformat": 4,
  "vscode": {
   "interpreter": {
    "hash": "dde667782244986477ed76811eb5b356f64204385126f90da7843cc3f36ee43e"
   }
  }
 },
 "nbformat": 4,
 "nbformat_minor": 2
}
