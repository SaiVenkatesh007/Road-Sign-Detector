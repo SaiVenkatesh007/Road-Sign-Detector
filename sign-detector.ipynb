{
 "cells": [
  {
   "cell_type": "code",
   "execution_count": 5,
   "metadata": {},
   "outputs": [
    {
     "name": "stdout",
     "output_type": "stream",
     "text": [
      "c:\\Users\\Sai venkatesh\\Documents\\GitHub\\Road-Sign-Detector\\yolov5\n",
      "Requirement already satisfied: gitpython in c:\\users\\sai venkatesh\\appdata\\local\\programs\\python\\python310\\lib\\site-packages (from -r requirements.txt (line 5)) (3.1.29)\n",
      "Requirement already satisfied: ipython in c:\\users\\sai venkatesh\\appdata\\roaming\\python\\python310\\site-packages (from -r requirements.txt (line 6)) (8.4.0)\n",
      "Requirement already satisfied: matplotlib>=3.2.2 in c:\\users\\sai venkatesh\\appdata\\local\\programs\\python\\python310\\lib\\site-packages (from -r requirements.txt (line 7)) (3.5.1)\n",
      "Requirement already satisfied: numpy>=1.18.5 in c:\\users\\sai venkatesh\\appdata\\local\\programs\\python\\python310\\lib\\site-packages (from -r requirements.txt (line 8)) (1.22.2)\n",
      "Requirement already satisfied: opencv-python>=4.1.1 in c:\\users\\sai venkatesh\\appdata\\local\\programs\\python\\python310\\lib\\site-packages (from -r requirements.txt (line 9)) (4.6.0.66)\n",
      "Requirement already satisfied: Pillow>=7.1.2 in c:\\users\\sai venkatesh\\appdata\\local\\programs\\python\\python310\\lib\\site-packages (from -r requirements.txt (line 10)) (9.0.1)\n",
      "Requirement already satisfied: psutil in c:\\users\\sai venkatesh\\appdata\\roaming\\python\\python310\\site-packages (from -r requirements.txt (line 11)) (5.9.1)\n",
      "Requirement already satisfied: PyYAML>=5.3.1 in c:\\users\\sai venkatesh\\appdata\\local\\programs\\python\\python310\\lib\\site-packages (from -r requirements.txt (line 12)) (6.0)\n",
      "Requirement already satisfied: requests>=2.23.0 in c:\\users\\sai venkatesh\\appdata\\local\\programs\\python\\python310\\lib\\site-packages (from -r requirements.txt (line 13)) (2.28.1)\n",
      "Requirement already satisfied: scipy>=1.4.1 in c:\\users\\sai venkatesh\\appdata\\local\\programs\\python\\python310\\lib\\site-packages (from -r requirements.txt (line 14)) (1.9.3)\n",
      "Requirement already satisfied: thop>=0.1.1 in c:\\users\\sai venkatesh\\appdata\\local\\programs\\python\\python310\\lib\\site-packages (from -r requirements.txt (line 15)) (0.1.1.post2209072238)\n",
      "Requirement already satisfied: torch>=1.7.0 in c:\\users\\sai venkatesh\\appdata\\local\\programs\\python\\python310\\lib\\site-packages (from -r requirements.txt (line 16)) (1.12.1+cu116)\n",
      "Requirement already satisfied: torchvision>=0.8.1 in c:\\users\\sai venkatesh\\appdata\\local\\programs\\python\\python310\\lib\\site-packages (from -r requirements.txt (line 17)) (0.13.1+cu116)\n",
      "Requirement already satisfied: tqdm>=4.64.0 in c:\\users\\sai venkatesh\\appdata\\local\\programs\\python\\python310\\lib\\site-packages (from -r requirements.txt (line 18)) (4.64.1)\n",
      "Requirement already satisfied: tensorboard>=2.4.1 in c:\\users\\sai venkatesh\\appdata\\local\\programs\\python\\python310\\lib\\site-packages (from -r requirements.txt (line 22)) (2.11.0)\n",
      "Requirement already satisfied: pandas>=1.1.4 in c:\\users\\sai venkatesh\\appdata\\local\\programs\\python\\python310\\lib\\site-packages (from -r requirements.txt (line 27)) (1.4.4)\n",
      "Requirement already satisfied: seaborn>=0.11.0 in c:\\users\\sai venkatesh\\appdata\\local\\programs\\python\\python310\\lib\\site-packages (from -r requirements.txt (line 28)) (0.12.1)\n",
      "Requirement already satisfied: gitdb<5,>=4.0.1 in c:\\users\\sai venkatesh\\appdata\\local\\programs\\python\\python310\\lib\\site-packages (from gitpython->-r requirements.txt (line 5)) (4.0.10)\n",
      "Requirement already satisfied: traitlets>=5 in c:\\users\\sai venkatesh\\appdata\\roaming\\python\\python310\\site-packages (from ipython->-r requirements.txt (line 6)) (5.3.0)\n",
      "Requirement already satisfied: pickleshare in c:\\users\\sai venkatesh\\appdata\\roaming\\python\\python310\\site-packages (from ipython->-r requirements.txt (line 6)) (0.7.5)\n",
      "Requirement already satisfied: decorator in c:\\users\\sai venkatesh\\appdata\\roaming\\python\\python310\\site-packages (from ipython->-r requirements.txt (line 6)) (5.1.1)\n",
      "Requirement already satisfied: matplotlib-inline in c:\\users\\sai venkatesh\\appdata\\roaming\\python\\python310\\site-packages (from ipython->-r requirements.txt (line 6)) (0.1.6)\n",
      "Requirement already satisfied: jedi>=0.16 in c:\\users\\sai venkatesh\\appdata\\roaming\\python\\python310\\site-packages (from ipython->-r requirements.txt (line 6)) (0.18.1)\n",
      "Requirement already satisfied: prompt-toolkit!=3.0.0,!=3.0.1,<3.1.0,>=2.0.0 in c:\\users\\sai venkatesh\\appdata\\roaming\\python\\python310\\site-packages (from ipython->-r requirements.txt (line 6)) (3.0.31)\n",
      "Requirement already satisfied: stack-data in c:\\users\\sai venkatesh\\appdata\\roaming\\python\\python310\\site-packages (from ipython->-r requirements.txt (line 6)) (0.5.0)\n",
      "Requirement already satisfied: pygments>=2.4.0 in c:\\users\\sai venkatesh\\appdata\\roaming\\python\\python310\\site-packages (from ipython->-r requirements.txt (line 6)) (2.13.0)\n",
      "Requirement already satisfied: setuptools>=18.5 in c:\\users\\sai venkatesh\\appdata\\local\\programs\\python\\python310\\lib\\site-packages (from ipython->-r requirements.txt (line 6)) (58.1.0)\n",
      "Requirement already satisfied: colorama in c:\\users\\sai venkatesh\\appdata\\roaming\\python\\python310\\site-packages (from ipython->-r requirements.txt (line 6)) (0.4.5)\n",
      "Requirement already satisfied: backcall in c:\\users\\sai venkatesh\\appdata\\roaming\\python\\python310\\site-packages (from ipython->-r requirements.txt (line 6)) (0.2.0)\n",
      "Requirement already satisfied: kiwisolver>=1.0.1 in c:\\users\\sai venkatesh\\appdata\\local\\programs\\python\\python310\\lib\\site-packages (from matplotlib>=3.2.2->-r requirements.txt (line 7)) (1.3.2)\n",
      "Requirement already satisfied: packaging>=20.0 in c:\\users\\sai venkatesh\\appdata\\local\\programs\\python\\python310\\lib\\site-packages (from matplotlib>=3.2.2->-r requirements.txt (line 7)) (21.3)\n",
      "Requirement already satisfied: pyparsing>=2.2.1 in c:\\users\\sai venkatesh\\appdata\\local\\programs\\python\\python310\\lib\\site-packages (from matplotlib>=3.2.2->-r requirements.txt (line 7)) (3.0.7)\n",
      "Requirement already satisfied: fonttools>=4.22.0 in c:\\users\\sai venkatesh\\appdata\\local\\programs\\python\\python310\\lib\\site-packages (from matplotlib>=3.2.2->-r requirements.txt (line 7)) (4.29.1)\n",
      "Requirement already satisfied: cycler>=0.10 in c:\\users\\sai venkatesh\\appdata\\local\\programs\\python\\python310\\lib\\site-packages (from matplotlib>=3.2.2->-r requirements.txt (line 7)) (0.11.0)\n",
      "Requirement already satisfied: python-dateutil>=2.7 in c:\\users\\sai venkatesh\\appdata\\local\\programs\\python\\python310\\lib\\site-packages (from matplotlib>=3.2.2->-r requirements.txt (line 7)) (2.8.2)\n",
      "Requirement already satisfied: urllib3<1.27,>=1.21.1 in c:\\users\\sai venkatesh\\appdata\\local\\programs\\python\\python310\\lib\\site-packages (from requests>=2.23.0->-r requirements.txt (line 13)) (1.26.12)\n",
      "Requirement already satisfied: idna<4,>=2.5 in c:\\users\\sai venkatesh\\appdata\\local\\programs\\python\\python310\\lib\\site-packages (from requests>=2.23.0->-r requirements.txt (line 13)) (3.3)\n",
      "Requirement already satisfied: certifi>=2017.4.17 in c:\\users\\sai venkatesh\\appdata\\local\\programs\\python\\python310\\lib\\site-packages (from requests>=2.23.0->-r requirements.txt (line 13)) (2022.6.15)\n",
      "Requirement already satisfied: charset-normalizer<3,>=2 in c:\\users\\sai venkatesh\\appdata\\local\\programs\\python\\python310\\lib\\site-packages (from requests>=2.23.0->-r requirements.txt (line 13)) (2.1.1)\n",
      "Requirement already satisfied: typing-extensions in c:\\users\\sai venkatesh\\appdata\\local\\programs\\python\\python310\\lib\\site-packages (from torch>=1.7.0->-r requirements.txt (line 16)) (4.2.0)\n",
      "Requirement already satisfied: tensorboard-data-server<0.7.0,>=0.6.0 in c:\\users\\sai venkatesh\\appdata\\local\\programs\\python\\python310\\lib\\site-packages (from tensorboard>=2.4.1->-r requirements.txt (line 22)) (0.6.1)\n",
      "Requirement already satisfied: google-auth<3,>=1.6.3 in c:\\users\\sai venkatesh\\appdata\\local\\programs\\python\\python310\\lib\\site-packages (from tensorboard>=2.4.1->-r requirements.txt (line 22)) (2.14.1)\n",
      "Requirement already satisfied: absl-py>=0.4 in c:\\users\\sai venkatesh\\appdata\\local\\programs\\python\\python310\\lib\\site-packages (from tensorboard>=2.4.1->-r requirements.txt (line 22)) (1.3.0)\n",
      "Requirement already satisfied: markdown>=2.6.8 in c:\\users\\sai venkatesh\\appdata\\local\\programs\\python\\python310\\lib\\site-packages (from tensorboard>=2.4.1->-r requirements.txt (line 22)) (3.4.1)\n",
      "Requirement already satisfied: werkzeug>=1.0.1 in c:\\users\\sai venkatesh\\appdata\\local\\programs\\python\\python310\\lib\\site-packages (from tensorboard>=2.4.1->-r requirements.txt (line 22)) (2.2.2)\n",
      "Requirement already satisfied: wheel>=0.26 in c:\\users\\sai venkatesh\\appdata\\local\\programs\\python\\python310\\lib\\site-packages (from tensorboard>=2.4.1->-r requirements.txt (line 22)) (0.38.4)\n",
      "Requirement already satisfied: grpcio>=1.24.3 in c:\\users\\sai venkatesh\\appdata\\local\\programs\\python\\python310\\lib\\site-packages (from tensorboard>=2.4.1->-r requirements.txt (line 22)) (1.50.0)\n",
      "Requirement already satisfied: protobuf<4,>=3.9.2 in c:\\users\\sai venkatesh\\appdata\\local\\programs\\python\\python310\\lib\\site-packages (from tensorboard>=2.4.1->-r requirements.txt (line 22)) (3.20.3)\n",
      "Requirement already satisfied: google-auth-oauthlib<0.5,>=0.4.1 in c:\\users\\sai venkatesh\\appdata\\local\\programs\\python\\python310\\lib\\site-packages (from tensorboard>=2.4.1->-r requirements.txt (line 22)) (0.4.6)\n",
      "Requirement already satisfied: tensorboard-plugin-wit>=1.6.0 in c:\\users\\sai venkatesh\\appdata\\local\\programs\\python\\python310\\lib\\site-packages (from tensorboard>=2.4.1->-r requirements.txt (line 22)) (1.8.1)\n",
      "Requirement already satisfied: pytz>=2020.1 in c:\\users\\sai venkatesh\\appdata\\local\\programs\\python\\python310\\lib\\site-packages (from pandas>=1.1.4->-r requirements.txt (line 27)) (2022.2.1)\n",
      "Requirement already satisfied: smmap<6,>=3.0.1 in c:\\users\\sai venkatesh\\appdata\\local\\programs\\python\\python310\\lib\\site-packages (from gitdb<5,>=4.0.1->gitpython->-r requirements.txt (line 5)) (5.0.0)\n",
      "Requirement already satisfied: pyasn1-modules>=0.2.1 in c:\\users\\sai venkatesh\\appdata\\local\\programs\\python\\python310\\lib\\site-packages (from google-auth<3,>=1.6.3->tensorboard>=2.4.1->-r requirements.txt (line 22)) (0.2.8)\n",
      "Requirement already satisfied: six>=1.9.0 in c:\\users\\sai venkatesh\\appdata\\local\\programs\\python\\python310\\lib\\site-packages (from google-auth<3,>=1.6.3->tensorboard>=2.4.1->-r requirements.txt (line 22)) (1.16.0)\n",
      "Requirement already satisfied: rsa<5,>=3.1.4 in c:\\users\\sai venkatesh\\appdata\\local\\programs\\python\\python310\\lib\\site-packages (from google-auth<3,>=1.6.3->tensorboard>=2.4.1->-r requirements.txt (line 22)) (4.9)\n",
      "Requirement already satisfied: cachetools<6.0,>=2.0.0 in c:\\users\\sai venkatesh\\appdata\\local\\programs\\python\\python310\\lib\\site-packages (from google-auth<3,>=1.6.3->tensorboard>=2.4.1->-r requirements.txt (line 22)) (5.2.0)\n",
      "Requirement already satisfied: requests-oauthlib>=0.7.0 in c:\\users\\sai venkatesh\\appdata\\local\\programs\\python\\python310\\lib\\site-packages (from google-auth-oauthlib<0.5,>=0.4.1->tensorboard>=2.4.1->-r requirements.txt (line 22)) (1.3.1)\n",
      "Requirement already satisfied: parso<0.9.0,>=0.8.0 in c:\\users\\sai venkatesh\\appdata\\roaming\\python\\python310\\site-packages (from jedi>=0.16->ipython->-r requirements.txt (line 6)) (0.8.3)\n",
      "Requirement already satisfied: wcwidth in c:\\users\\sai venkatesh\\appdata\\roaming\\python\\python310\\site-packages (from prompt-toolkit!=3.0.0,!=3.0.1,<3.1.0,>=2.0.0->ipython->-r requirements.txt (line 6)) (0.2.5)\n",
      "Requirement already satisfied: MarkupSafe>=2.1.1 in c:\\users\\sai venkatesh\\appdata\\local\\programs\\python\\python310\\lib\\site-packages (from werkzeug>=1.0.1->tensorboard>=2.4.1->-r requirements.txt (line 22)) (2.1.1)\n",
      "Requirement already satisfied: executing in c:\\users\\sai venkatesh\\appdata\\roaming\\python\\python310\\site-packages (from stack-data->ipython->-r requirements.txt (line 6)) (1.0.0)\n",
      "Requirement already satisfied: asttokens in c:\\users\\sai venkatesh\\appdata\\roaming\\python\\python310\\site-packages (from stack-data->ipython->-r requirements.txt (line 6)) (2.0.8)\n",
      "Requirement already satisfied: pure-eval in c:\\users\\sai venkatesh\\appdata\\roaming\\python\\python310\\site-packages (from stack-data->ipython->-r requirements.txt (line 6)) (0.2.2)\n",
      "Requirement already satisfied: pyasn1<0.5.0,>=0.4.6 in c:\\users\\sai venkatesh\\appdata\\local\\programs\\python\\python310\\lib\\site-packages (from pyasn1-modules>=0.2.1->google-auth<3,>=1.6.3->tensorboard>=2.4.1->-r requirements.txt (line 22)) (0.4.8)\n",
      "Requirement already satisfied: oauthlib>=3.0.0 in c:\\users\\sai venkatesh\\appdata\\local\\programs\\python\\python310\\lib\\site-packages (from requests-oauthlib>=0.7.0->google-auth-oauthlib<0.5,>=0.4.1->tensorboard>=2.4.1->-r requirements.txt (line 22)) (3.2.2)\n",
      "Note: you may need to restart the kernel to use updated packages.\n"
     ]
    }
   ],
   "source": [
    "\n",
    "%cd yolov5\n",
    "%pip install -r requirements.txt"
   ]
  },
  {
   "cell_type": "code",
   "execution_count": 6,
   "metadata": {},
   "outputs": [
    {
     "name": "stderr",
     "output_type": "stream",
     "text": [
      "c:\\Users\\Sai venkatesh\\AppData\\Local\\Programs\\Python\\Python310\\lib\\site-packages\\tqdm\\auto.py:22: TqdmWarning: IProgress not found. Please update jupyter and ipywidgets. See https://ipywidgets.readthedocs.io/en/stable/user_install.html\n",
      "  from .autonotebook import tqdm as notebook_tqdm\n"
     ]
    }
   ],
   "source": [
    "import torch\n",
    "from matplotlib import pyplot as plt\n",
    "import numpy as np\n",
    "import cv2\n",
    "import itertools\n",
    "import os "
   ]
  },
  {
   "cell_type": "code",
   "execution_count": 8,
   "metadata": {},
   "outputs": [],
   "source": [
    "from preprocessing import convert_voc_to_yolo"
   ]
  },
  {
   "cell_type": "code",
   "execution_count": null,
   "metadata": {},
   "outputs": [],
   "source": []
  }
 ],
 "metadata": {
  "kernelspec": {
   "display_name": "Python 3.10.2 64-bit",
   "language": "python",
   "name": "python3"
  },
  "language_info": {
   "codemirror_mode": {
    "name": "ipython",
    "version": 3
   },
   "file_extension": ".py",
   "mimetype": "text/x-python",
   "name": "python",
   "nbconvert_exporter": "python",
   "pygments_lexer": "ipython3",
   "version": "3.10.2"
  },
  "orig_nbformat": 4,
  "vscode": {
   "interpreter": {
    "hash": "dde667782244986477ed76811eb5b356f64204385126f90da7843cc3f36ee43e"
   }
  }
 },
 "nbformat": 4,
 "nbformat_minor": 2
}
